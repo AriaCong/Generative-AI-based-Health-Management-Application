{
 "cells": [
  {
   "cell_type": "code",
   "execution_count": 1,
   "metadata": {},
   "outputs": [
    {
     "name": "stdout",
     "output_type": "stream",
     "text": [
      "['id', 'age', 'sex', 'dataset', 'cp', 'trestbps', 'chol', 'fbs', 'restecg', 'thalch', 'exang', 'oldpeak', 'slope', 'ca', 'thal', 'num']\n"
     ]
    }
   ],
   "source": [
    "#============================ Loading required libraries ============================#\n",
    "import pandas as pd\n",
    "import numpy as np\n",
    "import matplotlib.pyplot as plt\n",
    "import seaborn as sns\n",
    "from sklearn.preprocessing import LabelEncoder\n",
    "import seaborn\n",
    "from sklearn.metrics import confusion_matrix, classification_report, precision_score, recall_score, f1_score, roc_curve, auc, precision_recall_curve\n",
    "from sklearn.preprocessing import StandardScaler\n",
    "from sklearn.svm import SVC\n",
    "from sklearn.model_selection import train_test_split, cross_val_score\n",
    "from sklearn.linear_model import LogisticRegression\n",
    "from xgboost import XGBClassifier\n",
    "import pandas as pd\n",
    "import numpy as np\n",
    "\n",
    "file_path = '../data/heart_disease_combined_data.csv'\n",
    "raw_heart_disease_combined_data = pd.read_csv(file_path)\n",
    "column_headers = raw_heart_disease_combined_data.columns.to_list()\n",
    "# Adjust the number of rows and columns displayed\n",
    "pd.set_option('display.max_rows', None)  # Show all rows\n",
    "pd.set_option('display.max_columns', None)  # Show all columns\n",
    "print(column_headers)"
   ]
  },
  {
   "cell_type": "code",
   "execution_count": 18,
   "metadata": {},
   "outputs": [
    {
     "name": "stdout",
     "output_type": "stream",
     "text": [
      "              age    trestbps        chol      thalch     oldpeak          ca  \\\n",
      "count  920.000000  861.000000  890.000000  865.000000  858.000000  309.000000   \n",
      "mean    53.510870  132.132404  199.130337  137.545665    0.878788    0.676375   \n",
      "std      9.424685   19.066070  110.780810   25.926276    1.091226    0.935653   \n",
      "min     28.000000    0.000000    0.000000   60.000000   -2.600000    0.000000   \n",
      "25%     47.000000  120.000000  175.000000  120.000000    0.000000    0.000000   \n",
      "50%     54.000000  130.000000  223.000000  140.000000    0.500000    0.000000   \n",
      "75%     60.000000  140.000000  268.000000  157.000000    1.500000    1.000000   \n",
      "max     77.000000  200.000000  603.000000  202.000000    6.200000    3.000000   \n",
      "\n",
      "       HD_detected  \n",
      "count   920.000000  \n",
      "mean      0.995652  \n",
      "std       1.142693  \n",
      "min       0.000000  \n",
      "25%       0.000000  \n",
      "50%       1.000000  \n",
      "75%       2.000000  \n",
      "max       4.000000  \n",
      "<class 'pandas.core.frame.DataFrame'>\n",
      "RangeIndex: 920 entries, 0 to 919\n",
      "Data columns (total 14 columns):\n",
      " #   Column       Non-Null Count  Dtype  \n",
      "---  ------       --------------  -----  \n",
      " 0   age          920 non-null    int64  \n",
      " 1   sex          920 non-null    object \n",
      " 2   cp           920 non-null    object \n",
      " 3   trestbps     861 non-null    float64\n",
      " 4   chol         890 non-null    float64\n",
      " 5   fbs          830 non-null    object \n",
      " 6   restecg      918 non-null    object \n",
      " 7   thalch       865 non-null    float64\n",
      " 8   exang        865 non-null    object \n",
      " 9   oldpeak      858 non-null    float64\n",
      " 10  slope        611 non-null    object \n",
      " 11  ca           309 non-null    float64\n",
      " 12  thal         434 non-null    object \n",
      " 13  HD_detected  920 non-null    int64  \n",
      "dtypes: float64(5), int64(2), object(7)\n",
      "memory usage: 100.8+ KB\n",
      "None\n"
     ]
    }
   ],
   "source": [
    "df = raw_heart_disease_combined_data.copy()\n",
    "df = df.rename(columns={'num': 'HD_detected'}) # Renaming target column\n",
    "df = df.drop(['id', 'dataset'], axis=1) # Dropping useless columns\n",
    "print(df.describe())\n",
    "print(df.info())\n"
   ]
  },
  {
   "cell_type": "code",
   "execution_count": 19,
   "metadata": {},
   "outputs": [
    {
     "name": "stdout",
     "output_type": "stream",
     "text": [
      "age              0\n",
      "sex              0\n",
      "cp               0\n",
      "trestbps        59\n",
      "chol            30\n",
      "fbs             90\n",
      "restecg          2\n",
      "thalch          55\n",
      "exang           55\n",
      "oldpeak         62\n",
      "slope          309\n",
      "ca             611\n",
      "thal           486\n",
      "HD_detected      0\n",
      "dtype: int64\n"
     ]
    }
   ],
   "source": [
    "missing_values_count = df.isnull().sum() ##same as df.info but instead of giving the all info, we can see just missing values\n",
    "print(missing_values_count)\n",
    "#Finding how many percent of the data is missing\n",
    "total_cells = np.product(df.shape)\n",
    "total_missing = missing_values_count.sum()\n",
    "# percent of data that is missing\n",
    "percent_missing = (total_missing/total_cells) * 100\n",
    "print(percent_missing)"
   ]
  },
  {
   "cell_type": "code",
   "execution_count": null,
   "metadata": {},
   "outputs": [],
   "source": [
    "# drop the missing columns and check the shape of the data\n",
    "df = df.dropna()"
   ]
  },
  {
   "cell_type": "code",
   "execution_count": null,
   "metadata": {},
   "outputs": [],
   "source": []
  },
  {
   "cell_type": "code",
   "execution_count": null,
   "metadata": {},
   "outputs": [],
   "source": [
    " \n",
    "# Mapping values 1,2,3,4 to 1 (disease is present)\n",
    "# 0 represents that disease is absent\n",
    "df['disease_present'] = df.disease_present.map({0: 0, 1: 1, 2: 1, 3: 1, 4: 1})\n"
   ]
  }
 ],
 "metadata": {
  "kernelspec": {
   "display_name": "vscode_env",
   "language": "python",
   "name": "python3"
  },
  "language_info": {
   "codemirror_mode": {
    "name": "ipython",
    "version": 3
   },
   "file_extension": ".py",
   "mimetype": "text/x-python",
   "name": "python",
   "nbconvert_exporter": "python",
   "pygments_lexer": "ipython3",
   "version": "3.10.16"
  }
 },
 "nbformat": 4,
 "nbformat_minor": 2
}
